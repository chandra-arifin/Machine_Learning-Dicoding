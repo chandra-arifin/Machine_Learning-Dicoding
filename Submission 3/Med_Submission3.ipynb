{
  "nbformat": 4,
  "nbformat_minor": 0,
  "metadata": {
    "colab": {
      "provenance": [],
      "gpuType": "T4"
    },
    "kernelspec": {
      "display_name": "Python 3",
      "name": "python3"
    },
    "language_info": {
      "name": "python"
    },
    "accelerator": "GPU"
  },
  "cells": [
    {
      "cell_type": "markdown",
      "metadata": {
        "id": "view-in-github"
      },
      "source": [
        "<a href=\"https://colab.research.google.com/github/insancs/rock-paper-scissors-classifier/blob/main/rockpaperscissors.ipynb\" target=\"_parent\"><img src=\"https://colab.research.google.com/assets/colab-badge.svg\" alt=\"Open In Colab\"/></a>"
      ]
    },
    {
      "cell_type": "markdown",
      "metadata": {
        "id": "dNhxXQBec7ru"
      },
      "source": [
        "# Profile"
      ]
    },
    {
      "cell_type": "markdown",
      "source": [
        "Nama : Chandra Arifin <br/>\n",
        "Project : Submission 3 <br/>\n",
        "Machine Learning (Intermediate)<br/>\n",
        "Dataset : https://www.kaggle.com/datasets/andrewmvd/animal-faces\n"
      ],
      "metadata": {
        "id": "vlf9uSGk7-fD"
      }
    },
    {
      "cell_type": "markdown",
      "metadata": {
        "id": "BmAlL1Ha7fee"
      },
      "source": [
        "# Import Libraries"
      ]
    },
    {
      "cell_type": "code",
      "metadata": {
        "id": "Oe3R3arNwxdG"
      },
      "source": [
        "import numpy as np\n",
        "import zipfile\n",
        "import os\n",
        "\n",
        "import tensorflow as tf\n",
        "from tensorflow.keras.preprocessing.image import ImageDataGenerator\n",
        "from tensorflow.keras.callbacks import Callback\n",
        "\n",
        "import matplotlib.pyplot as plt\n",
        "from google.colab import files\n",
        "from keras.preprocessing import image\n",
        "import matplotlib.image as mpimg\n",
        "\n",
        "\n",
        "%matplotlib inline"
      ],
      "execution_count": 1,
      "outputs": []
    },
    {
      "cell_type": "code",
      "source": [
        "!pip install -q kaggle"
      ],
      "metadata": {
        "id": "gU6H_LySV0_m"
      },
      "execution_count": 2,
      "outputs": []
    },
    {
      "cell_type": "markdown",
      "metadata": {
        "id": "5x3vRX7PF8zF"
      },
      "source": [
        "# Variable Lokal"
      ]
    },
    {
      "cell_type": "code",
      "source": [
        "LOKASI_FILE = \"/content/afhq/\"\n",
        "TRAINING_DIR = \"/content/afhq/train/\"\n",
        "VALIDATION_DIR = \"/content/afhq/val/\"\n",
        "numEpoch=40"
      ],
      "metadata": {
        "id": "cgrAvxxx9XUy"
      },
      "execution_count": 3,
      "outputs": []
    },
    {
      "cell_type": "markdown",
      "metadata": {
        "id": "FljgKHbu9Ywe"
      },
      "source": [
        "# Import Dataset"
      ]
    },
    {
      "cell_type": "code",
      "source": [
        "from google.colab import files\n",
        "files.upload()"
      ],
      "metadata": {
        "colab": {
          "base_uri": "https://localhost:8080/",
          "height": 90
        },
        "id": "ZclRs1exZLK-",
        "outputId": "19b0ea4d-b5f9-4d09-a3e4-f2344a1e0666"
      },
      "execution_count": 4,
      "outputs": [
        {
          "output_type": "display_data",
          "data": {
            "text/plain": [
              "<IPython.core.display.HTML object>"
            ],
            "text/html": [
              "\n",
              "     <input type=\"file\" id=\"files-6fb2e925-35e6-4dcc-993d-d4d166f35e2f\" name=\"files[]\" multiple disabled\n",
              "        style=\"border:none\" />\n",
              "     <output id=\"result-6fb2e925-35e6-4dcc-993d-d4d166f35e2f\">\n",
              "      Upload widget is only available when the cell has been executed in the\n",
              "      current browser session. Please rerun this cell to enable.\n",
              "      </output>\n",
              "      <script>// Copyright 2017 Google LLC\n",
              "//\n",
              "// Licensed under the Apache License, Version 2.0 (the \"License\");\n",
              "// you may not use this file except in compliance with the License.\n",
              "// You may obtain a copy of the License at\n",
              "//\n",
              "//      http://www.apache.org/licenses/LICENSE-2.0\n",
              "//\n",
              "// Unless required by applicable law or agreed to in writing, software\n",
              "// distributed under the License is distributed on an \"AS IS\" BASIS,\n",
              "// WITHOUT WARRANTIES OR CONDITIONS OF ANY KIND, either express or implied.\n",
              "// See the License for the specific language governing permissions and\n",
              "// limitations under the License.\n",
              "\n",
              "/**\n",
              " * @fileoverview Helpers for google.colab Python module.\n",
              " */\n",
              "(function(scope) {\n",
              "function span(text, styleAttributes = {}) {\n",
              "  const element = document.createElement('span');\n",
              "  element.textContent = text;\n",
              "  for (const key of Object.keys(styleAttributes)) {\n",
              "    element.style[key] = styleAttributes[key];\n",
              "  }\n",
              "  return element;\n",
              "}\n",
              "\n",
              "// Max number of bytes which will be uploaded at a time.\n",
              "const MAX_PAYLOAD_SIZE = 100 * 1024;\n",
              "\n",
              "function _uploadFiles(inputId, outputId) {\n",
              "  const steps = uploadFilesStep(inputId, outputId);\n",
              "  const outputElement = document.getElementById(outputId);\n",
              "  // Cache steps on the outputElement to make it available for the next call\n",
              "  // to uploadFilesContinue from Python.\n",
              "  outputElement.steps = steps;\n",
              "\n",
              "  return _uploadFilesContinue(outputId);\n",
              "}\n",
              "\n",
              "// This is roughly an async generator (not supported in the browser yet),\n",
              "// where there are multiple asynchronous steps and the Python side is going\n",
              "// to poll for completion of each step.\n",
              "// This uses a Promise to block the python side on completion of each step,\n",
              "// then passes the result of the previous step as the input to the next step.\n",
              "function _uploadFilesContinue(outputId) {\n",
              "  const outputElement = document.getElementById(outputId);\n",
              "  const steps = outputElement.steps;\n",
              "\n",
              "  const next = steps.next(outputElement.lastPromiseValue);\n",
              "  return Promise.resolve(next.value.promise).then((value) => {\n",
              "    // Cache the last promise value to make it available to the next\n",
              "    // step of the generator.\n",
              "    outputElement.lastPromiseValue = value;\n",
              "    return next.value.response;\n",
              "  });\n",
              "}\n",
              "\n",
              "/**\n",
              " * Generator function which is called between each async step of the upload\n",
              " * process.\n",
              " * @param {string} inputId Element ID of the input file picker element.\n",
              " * @param {string} outputId Element ID of the output display.\n",
              " * @return {!Iterable<!Object>} Iterable of next steps.\n",
              " */\n",
              "function* uploadFilesStep(inputId, outputId) {\n",
              "  const inputElement = document.getElementById(inputId);\n",
              "  inputElement.disabled = false;\n",
              "\n",
              "  const outputElement = document.getElementById(outputId);\n",
              "  outputElement.innerHTML = '';\n",
              "\n",
              "  const pickedPromise = new Promise((resolve) => {\n",
              "    inputElement.addEventListener('change', (e) => {\n",
              "      resolve(e.target.files);\n",
              "    });\n",
              "  });\n",
              "\n",
              "  const cancel = document.createElement('button');\n",
              "  inputElement.parentElement.appendChild(cancel);\n",
              "  cancel.textContent = 'Cancel upload';\n",
              "  const cancelPromise = new Promise((resolve) => {\n",
              "    cancel.onclick = () => {\n",
              "      resolve(null);\n",
              "    };\n",
              "  });\n",
              "\n",
              "  // Wait for the user to pick the files.\n",
              "  const files = yield {\n",
              "    promise: Promise.race([pickedPromise, cancelPromise]),\n",
              "    response: {\n",
              "      action: 'starting',\n",
              "    }\n",
              "  };\n",
              "\n",
              "  cancel.remove();\n",
              "\n",
              "  // Disable the input element since further picks are not allowed.\n",
              "  inputElement.disabled = true;\n",
              "\n",
              "  if (!files) {\n",
              "    return {\n",
              "      response: {\n",
              "        action: 'complete',\n",
              "      }\n",
              "    };\n",
              "  }\n",
              "\n",
              "  for (const file of files) {\n",
              "    const li = document.createElement('li');\n",
              "    li.append(span(file.name, {fontWeight: 'bold'}));\n",
              "    li.append(span(\n",
              "        `(${file.type || 'n/a'}) - ${file.size} bytes, ` +\n",
              "        `last modified: ${\n",
              "            file.lastModifiedDate ? file.lastModifiedDate.toLocaleDateString() :\n",
              "                                    'n/a'} - `));\n",
              "    const percent = span('0% done');\n",
              "    li.appendChild(percent);\n",
              "\n",
              "    outputElement.appendChild(li);\n",
              "\n",
              "    const fileDataPromise = new Promise((resolve) => {\n",
              "      const reader = new FileReader();\n",
              "      reader.onload = (e) => {\n",
              "        resolve(e.target.result);\n",
              "      };\n",
              "      reader.readAsArrayBuffer(file);\n",
              "    });\n",
              "    // Wait for the data to be ready.\n",
              "    let fileData = yield {\n",
              "      promise: fileDataPromise,\n",
              "      response: {\n",
              "        action: 'continue',\n",
              "      }\n",
              "    };\n",
              "\n",
              "    // Use a chunked sending to avoid message size limits. See b/62115660.\n",
              "    let position = 0;\n",
              "    do {\n",
              "      const length = Math.min(fileData.byteLength - position, MAX_PAYLOAD_SIZE);\n",
              "      const chunk = new Uint8Array(fileData, position, length);\n",
              "      position += length;\n",
              "\n",
              "      const base64 = btoa(String.fromCharCode.apply(null, chunk));\n",
              "      yield {\n",
              "        response: {\n",
              "          action: 'append',\n",
              "          file: file.name,\n",
              "          data: base64,\n",
              "        },\n",
              "      };\n",
              "\n",
              "      let percentDone = fileData.byteLength === 0 ?\n",
              "          100 :\n",
              "          Math.round((position / fileData.byteLength) * 100);\n",
              "      percent.textContent = `${percentDone}% done`;\n",
              "\n",
              "    } while (position < fileData.byteLength);\n",
              "  }\n",
              "\n",
              "  // All done.\n",
              "  yield {\n",
              "    response: {\n",
              "      action: 'complete',\n",
              "    }\n",
              "  };\n",
              "}\n",
              "\n",
              "scope.google = scope.google || {};\n",
              "scope.google.colab = scope.google.colab || {};\n",
              "scope.google.colab._files = {\n",
              "  _uploadFiles,\n",
              "  _uploadFilesContinue,\n",
              "};\n",
              "})(self);\n",
              "</script> "
            ]
          },
          "metadata": {}
        },
        {
          "output_type": "stream",
          "name": "stdout",
          "text": [
            "Saving kaggle.json to kaggle (2).json\n"
          ]
        },
        {
          "output_type": "execute_result",
          "data": {
            "text/plain": [
              "{'kaggle (2).json': b'{\"username\":\"chandraarifin\",\"key\":\"6c4f515c25530bf3b2b9b22ea0a40eca\"}'}"
            ]
          },
          "metadata": {},
          "execution_count": 4
        }
      ]
    },
    {
      "cell_type": "code",
      "source": [
        "!mkdir ~/.kaggle\n",
        "!cp kaggle.json ~/.kaggle/"
      ],
      "metadata": {
        "colab": {
          "base_uri": "https://localhost:8080/"
        },
        "id": "gmfSQ5EMWZD7",
        "outputId": "d48ec6f4-503f-47f4-a3f1-8b54b77bafc1"
      },
      "execution_count": 5,
      "outputs": [
        {
          "output_type": "stream",
          "name": "stdout",
          "text": [
            "mkdir: cannot create directory ‘/root/.kaggle’: File exists\n"
          ]
        }
      ]
    },
    {
      "cell_type": "code",
      "source": [
        "!kaggle datasets download -d andrewmvd/animal-faces"
      ],
      "metadata": {
        "colab": {
          "base_uri": "https://localhost:8080/"
        },
        "id": "psR-JfgKYICr",
        "outputId": "ca6f4630-95e6-4b0f-c4b5-1e11c60f2c5e"
      },
      "execution_count": 6,
      "outputs": [
        {
          "output_type": "stream",
          "name": "stdout",
          "text": [
            "Warning: Your Kaggle API key is readable by other users on this system! To fix this, you can run 'chmod 600 /root/.kaggle/kaggle.json'\n",
            "animal-faces.zip: Skipping, found more recently modified local copy (use --force to force download)\n"
          ]
        }
      ]
    },
    {
      "cell_type": "markdown",
      "metadata": {
        "id": "Fw2uaJsnGHoY"
      },
      "source": [
        "# Extract file"
      ]
    },
    {
      "cell_type": "code",
      "metadata": {
        "id": "edvJ0tulyU0T"
      },
      "source": [
        "# Extract zip file\n",
        "local_zip = '/content/animal-faces.zip'\n",
        "zip_ref = zipfile.ZipFile(local_zip, 'r')\n",
        "zip_ref.extractall('/content/')\n",
        "zip_ref.close()"
      ],
      "execution_count": 7,
      "outputs": []
    },
    {
      "cell_type": "code",
      "metadata": {
        "colab": {
          "base_uri": "https://localhost:8080/"
        },
        "id": "Emw41CFaSzcV",
        "outputId": "162218ad-4cc0-4edd-c022-511938e387e9"
      },
      "source": [
        "# Check rps directory\n",
        "os.listdir(LOKASI_FILE)"
      ],
      "execution_count": 8,
      "outputs": [
        {
          "output_type": "execute_result",
          "data": {
            "text/plain": [
              "['train', 'val']"
            ]
          },
          "metadata": {},
          "execution_count": 8
        }
      ]
    },
    {
      "cell_type": "code",
      "metadata": {
        "colab": {
          "base_uri": "https://localhost:8080/"
        },
        "id": "8abO6LM-KoNX",
        "outputId": "67485ca5-4ccf-4c72-a8ba-3453c975b879"
      },
      "source": [
        "# Check rps-test-set direcroty\n",
        "os.listdir(TRAINING_DIR)"
      ],
      "execution_count": 9,
      "outputs": [
        {
          "output_type": "execute_result",
          "data": {
            "text/plain": [
              "['wild', 'dog', 'cat']"
            ]
          },
          "metadata": {},
          "execution_count": 9
        }
      ]
    },
    {
      "cell_type": "markdown",
      "metadata": {
        "id": "wDg-zKEHGUIX"
      },
      "source": [
        "# Image Augmentation"
      ]
    },
    {
      "cell_type": "code",
      "metadata": {
        "id": "yCpuSkhGTiAf"
      },
      "source": [
        "# image augmentation\n",
        "train_datagen = ImageDataGenerator(\n",
        "    rescale = 1./255,\n",
        "\t  rotation_range=40,\n",
        "    width_shift_range=0.2,\n",
        "    height_shift_range=0.2,\n",
        "    shear_range=0.2,\n",
        "    zoom_range=0.2,\n",
        "    horizontal_flip=True,\n",
        "    fill_mode='nearest',\n",
        "    validation_split=0.2,\n",
        ")\n",
        "\n",
        "validation_datagen = ImageDataGenerator(\n",
        "    rescale = 1./255,\n",
        ")"
      ],
      "execution_count": 34,
      "outputs": []
    },
    {
      "cell_type": "code",
      "metadata": {
        "colab": {
          "base_uri": "https://localhost:8080/"
        },
        "id": "_tELOhr8Urlq",
        "outputId": "ebfd2265-6e2f-45b3-b828-e33bd1183f58"
      },
      "source": [
        "train_generator = train_datagen.flow_from_directory(\n",
        "    TRAINING_DIR,\n",
        "    target_size=(512, 512),\n",
        "    batch_size=32,\n",
        "    class_mode='categorical',\n",
        "    subset='training', # specify 'training' subset\n",
        ")\n",
        "\n",
        "validation_generator = train_datagen.flow_from_directory(\n",
        "    TRAINING_DIR,\n",
        "    target_size=(512, 512),\n",
        "    batch_size=32,\n",
        "    class_mode='categorical',\n",
        "    subset='validation', # specify 'validation' subset\n",
        ")"
      ],
      "execution_count": 36,
      "outputs": [
        {
          "output_type": "stream",
          "name": "stdout",
          "text": [
            "Found 11706 images belonging to 3 classes.\n",
            "Found 2924 images belonging to 3 classes.\n"
          ]
        }
      ]
    },
    {
      "cell_type": "markdown",
      "metadata": {
        "id": "2fmuiaNEGkny"
      },
      "source": [
        "# Convolution Neural Network"
      ]
    },
    {
      "cell_type": "code",
      "metadata": {
        "colab": {
          "base_uri": "https://localhost:8080/"
        },
        "id": "Lk1mA5nYZ7ZI",
        "outputId": "da373456-4326-4894-9f64-4f76abc55331"
      },
      "source": [
        "model = tf.keras.models.Sequential([\n",
        "    tf.keras.layers.Conv2D(64, (3,3), activation='relu', input_shape=(512, 512, 3)),\n",
        "    tf.keras.layers.MaxPooling2D(2, 2),\n",
        "    tf.keras.layers.Conv2D(64, (3,3), activation='relu'),\n",
        "    tf.keras.layers.MaxPooling2D(2,2),\n",
        "    tf.keras.layers.Conv2D(64, (3,3), activation='relu'),\n",
        "    tf.keras.layers.MaxPooling2D(2,2),\n",
        "    tf.keras.layers.Conv2D(64, (3,3), activation='relu'),\n",
        "    tf.keras.layers.MaxPooling2D(2,2),\n",
        "    tf.keras.layers.Flatten(),\n",
        "    tf.keras.layers.Dropout(0.5),\n",
        "    tf.keras.layers.Dense(512, activation='relu'),\n",
        "    tf.keras.layers.Dense(3, activation='softmax')\n",
        "])\n",
        "\n",
        "# Tampilkan summary model\n",
        "model.summary()"
      ],
      "execution_count": 12,
      "outputs": [
        {
          "output_type": "stream",
          "name": "stdout",
          "text": [
            "Model: \"sequential\"\n",
            "_________________________________________________________________\n",
            " Layer (type)                Output Shape              Param #   \n",
            "=================================================================\n",
            " conv2d (Conv2D)             (None, 510, 510, 64)      1792      \n",
            "                                                                 \n",
            " max_pooling2d (MaxPooling2  (None, 255, 255, 64)      0         \n",
            " D)                                                              \n",
            "                                                                 \n",
            " conv2d_1 (Conv2D)           (None, 253, 253, 64)      36928     \n",
            "                                                                 \n",
            " max_pooling2d_1 (MaxPoolin  (None, 126, 126, 64)      0         \n",
            " g2D)                                                            \n",
            "                                                                 \n",
            " conv2d_2 (Conv2D)           (None, 124, 124, 64)      36928     \n",
            "                                                                 \n",
            " max_pooling2d_2 (MaxPoolin  (None, 62, 62, 64)        0         \n",
            " g2D)                                                            \n",
            "                                                                 \n",
            " conv2d_3 (Conv2D)           (None, 60, 60, 64)        36928     \n",
            "                                                                 \n",
            " max_pooling2d_3 (MaxPoolin  (None, 30, 30, 64)        0         \n",
            " g2D)                                                            \n",
            "                                                                 \n",
            " flatten (Flatten)           (None, 57600)             0         \n",
            "                                                                 \n",
            " dropout (Dropout)           (None, 57600)             0         \n",
            "                                                                 \n",
            " dense (Dense)               (None, 512)               29491712  \n",
            "                                                                 \n",
            " dense_1 (Dense)             (None, 3)                 1539      \n",
            "                                                                 \n",
            "=================================================================\n",
            "Total params: 29605827 (112.94 MB)\n",
            "Trainable params: 29605827 (112.94 MB)\n",
            "Non-trainable params: 0 (0.00 Byte)\n",
            "_________________________________________________________________\n"
          ]
        }
      ]
    },
    {
      "cell_type": "code",
      "metadata": {
        "id": "S54IrvPzZ7c6"
      },
      "source": [
        "# Compile model\n",
        "model.compile(loss = 'categorical_crossentropy',\n",
        "              optimizer='rmsprop',\n",
        "              metrics=['accuracy'])"
      ],
      "execution_count": 13,
      "outputs": []
    },
    {
      "cell_type": "markdown",
      "metadata": {
        "id": "NjeNa_OO5zFe"
      },
      "source": [
        "# Create Callbacks"
      ]
    },
    {
      "cell_type": "code",
      "metadata": {
        "id": "r1IUTXpfDaWi"
      },
      "source": [
        "# Buat callback kostumisasi\n",
        "class CustomCallback(Callback):\n",
        "    def on_epoch_end(self, epoch, logs={}):\n",
        "        if(logs.get('accuracy')>0.9):\n",
        "          print(\"\\nAkurasi telah mencapai >90%!\")\n",
        "          self.model.stop_training = True\n",
        "\n",
        "    def on_train_begin(self, logs=None):\n",
        "        print(\"Starting training\")\n",
        "\n",
        "    def on_train_end(self, logs=None):\n",
        "        print(\"Training has been stopped\")\n",
        "        print('Accuracy = %2.2f%%' %(logs['accuracy']*100))\n",
        "\n",
        "reduce_lr = tf.keras.callbacks.ReduceLROnPlateau(\n",
        "    monitor='val_loss',\n",
        "    factor=0.2,\n",
        "    patience=5,\n",
        "    min_lr=1.5e-5\n",
        ")\n",
        "\n",
        "early_stopping = tf.keras.callbacks.EarlyStopping(\n",
        "    monitor=\"val_loss\",\n",
        "    min_delta=0,\n",
        "    patience=12,\n",
        "    verbose=0,\n",
        "    mode=\"auto\",\n",
        "    baseline=None,\n",
        "    restore_best_weights=True\n",
        ")"
      ],
      "execution_count": 14,
      "outputs": []
    },
    {
      "cell_type": "code",
      "metadata": {
        "colab": {
          "base_uri": "https://localhost:8080/"
        },
        "id": "o_WBeHNOdvM5",
        "outputId": "befeb038-5f30-455c-ffb5-28fdd48da220"
      },
      "source": [
        "history = model.fit(train_generator,\n",
        "                    epochs=numEpoch,\n",
        "                    steps_per_epoch=20,\n",
        "                    validation_data = validation_generator,\n",
        "                    verbose = 1,\n",
        "                    validation_steps=3,\n",
        "                    callbacks=[CustomCallback(), reduce_lr, early_stopping]\n",
        "                    )"
      ],
      "execution_count": 15,
      "outputs": [
        {
          "output_type": "stream",
          "name": "stdout",
          "text": [
            "Starting training\n",
            "Epoch 1/40\n",
            "20/20 [==============================] - 57s 2s/step - loss: 1.5045 - accuracy: 0.3762 - val_loss: 1.1064 - val_accuracy: 0.2604 - lr: 0.0010\n",
            "Epoch 2/40\n",
            "20/20 [==============================] - 44s 2s/step - loss: 1.0981 - accuracy: 0.3469 - val_loss: 1.1091 - val_accuracy: 0.3542 - lr: 0.0010\n",
            "Epoch 3/40\n",
            "20/20 [==============================] - 42s 2s/step - loss: 1.1022 - accuracy: 0.3391 - val_loss: 1.0888 - val_accuracy: 0.3646 - lr: 0.0010\n",
            "Epoch 4/40\n",
            "20/20 [==============================] - 43s 2s/step - loss: 1.1098 - accuracy: 0.3594 - val_loss: 1.1008 - val_accuracy: 0.3750 - lr: 0.0010\n",
            "Epoch 5/40\n",
            "20/20 [==============================] - 44s 2s/step - loss: 1.1151 - accuracy: 0.3594 - val_loss: 1.0953 - val_accuracy: 0.3646 - lr: 0.0010\n",
            "Epoch 6/40\n",
            "20/20 [==============================] - 43s 2s/step - loss: 1.0939 - accuracy: 0.3719 - val_loss: 1.0836 - val_accuracy: 0.3646 - lr: 0.0010\n",
            "Epoch 7/40\n",
            "20/20 [==============================] - 42s 2s/step - loss: 1.0854 - accuracy: 0.4328 - val_loss: 1.3731 - val_accuracy: 0.4375 - lr: 0.0010\n",
            "Epoch 8/40\n",
            "20/20 [==============================] - 42s 2s/step - loss: 1.0808 - accuracy: 0.4375 - val_loss: 1.0334 - val_accuracy: 0.4375 - lr: 0.0010\n",
            "Epoch 9/40\n",
            "20/20 [==============================] - 42s 2s/step - loss: 1.0471 - accuracy: 0.4234 - val_loss: 1.0279 - val_accuracy: 0.3958 - lr: 0.0010\n",
            "Epoch 10/40\n",
            "20/20 [==============================] - 42s 2s/step - loss: 1.0568 - accuracy: 0.4719 - val_loss: 0.9878 - val_accuracy: 0.5000 - lr: 0.0010\n",
            "Epoch 11/40\n",
            "20/20 [==============================] - 43s 2s/step - loss: 0.9979 - accuracy: 0.4821 - val_loss: 1.2603 - val_accuracy: 0.4167 - lr: 0.0010\n",
            "Epoch 12/40\n",
            "20/20 [==============================] - 40s 2s/step - loss: 0.9615 - accuracy: 0.5342 - val_loss: 0.9433 - val_accuracy: 0.5625 - lr: 0.0010\n",
            "Epoch 13/40\n",
            "20/20 [==============================] - 42s 2s/step - loss: 0.9144 - accuracy: 0.5734 - val_loss: 0.9821 - val_accuracy: 0.5000 - lr: 0.0010\n",
            "Epoch 14/40\n",
            "20/20 [==============================] - 42s 2s/step - loss: 1.0487 - accuracy: 0.5109 - val_loss: 0.8497 - val_accuracy: 0.5312 - lr: 0.0010\n",
            "Epoch 15/40\n",
            "20/20 [==============================] - 42s 2s/step - loss: 0.8968 - accuracy: 0.5766 - val_loss: 0.7108 - val_accuracy: 0.6771 - lr: 0.0010\n",
            "Epoch 16/40\n",
            "20/20 [==============================] - 44s 2s/step - loss: 0.8370 - accuracy: 0.6219 - val_loss: 0.7256 - val_accuracy: 0.6875 - lr: 0.0010\n",
            "Epoch 17/40\n",
            "20/20 [==============================] - 44s 2s/step - loss: 0.8232 - accuracy: 0.6187 - val_loss: 1.2135 - val_accuracy: 0.5208 - lr: 0.0010\n",
            "Epoch 18/40\n",
            "20/20 [==============================] - 42s 2s/step - loss: 0.8969 - accuracy: 0.5859 - val_loss: 0.7492 - val_accuracy: 0.6354 - lr: 0.0010\n",
            "Epoch 19/40\n",
            "20/20 [==============================] - 43s 2s/step - loss: 0.8543 - accuracy: 0.5844 - val_loss: 0.5855 - val_accuracy: 0.8229 - lr: 0.0010\n",
            "Epoch 20/40\n",
            "20/20 [==============================] - 42s 2s/step - loss: 0.8126 - accuracy: 0.6078 - val_loss: 0.5775 - val_accuracy: 0.7812 - lr: 0.0010\n",
            "Epoch 21/40\n",
            "20/20 [==============================] - 43s 2s/step - loss: 0.8565 - accuracy: 0.6531 - val_loss: 0.5217 - val_accuracy: 0.7812 - lr: 0.0010\n",
            "Epoch 22/40\n",
            "20/20 [==============================] - 42s 2s/step - loss: 0.7798 - accuracy: 0.6625 - val_loss: 0.8749 - val_accuracy: 0.6146 - lr: 0.0010\n",
            "Epoch 23/40\n",
            "20/20 [==============================] - 42s 2s/step - loss: 0.7784 - accuracy: 0.6656 - val_loss: 0.5142 - val_accuracy: 0.7917 - lr: 0.0010\n",
            "Epoch 24/40\n",
            "20/20 [==============================] - 42s 2s/step - loss: 0.6894 - accuracy: 0.7031 - val_loss: 0.5218 - val_accuracy: 0.7604 - lr: 0.0010\n",
            "Epoch 25/40\n",
            "20/20 [==============================] - 42s 2s/step - loss: 0.7139 - accuracy: 0.7094 - val_loss: 0.4596 - val_accuracy: 0.7812 - lr: 0.0010\n",
            "Epoch 26/40\n",
            "20/20 [==============================] - 44s 2s/step - loss: 0.7692 - accuracy: 0.6687 - val_loss: 0.3952 - val_accuracy: 0.8125 - lr: 0.0010\n",
            "Epoch 27/40\n",
            "20/20 [==============================] - 42s 2s/step - loss: 0.7164 - accuracy: 0.7031 - val_loss: 0.5287 - val_accuracy: 0.7812 - lr: 0.0010\n",
            "Epoch 28/40\n",
            "20/20 [==============================] - 44s 2s/step - loss: 0.6550 - accuracy: 0.7297 - val_loss: 0.7450 - val_accuracy: 0.6042 - lr: 0.0010\n",
            "Epoch 29/40\n",
            "20/20 [==============================] - 42s 2s/step - loss: 0.6356 - accuracy: 0.7312 - val_loss: 0.4253 - val_accuracy: 0.8333 - lr: 0.0010\n",
            "Epoch 30/40\n",
            "20/20 [==============================] - 43s 2s/step - loss: 0.6773 - accuracy: 0.7078 - val_loss: 0.4502 - val_accuracy: 0.8229 - lr: 0.0010\n",
            "Epoch 31/40\n",
            "20/20 [==============================] - 42s 2s/step - loss: 0.6288 - accuracy: 0.7422 - val_loss: 0.5210 - val_accuracy: 0.7396 - lr: 0.0010\n",
            "Epoch 32/40\n",
            "20/20 [==============================] - 43s 2s/step - loss: 0.5604 - accuracy: 0.7703 - val_loss: 0.3495 - val_accuracy: 0.8646 - lr: 2.0000e-04\n",
            "Epoch 33/40\n",
            "20/20 [==============================] - 43s 2s/step - loss: 0.5105 - accuracy: 0.7875 - val_loss: 0.3318 - val_accuracy: 0.8750 - lr: 2.0000e-04\n",
            "Epoch 34/40\n",
            "20/20 [==============================] - 42s 2s/step - loss: 0.5201 - accuracy: 0.7953 - val_loss: 0.3494 - val_accuracy: 0.8750 - lr: 2.0000e-04\n",
            "Epoch 35/40\n",
            "20/20 [==============================] - 42s 2s/step - loss: 0.5126 - accuracy: 0.8156 - val_loss: 0.3088 - val_accuracy: 0.8750 - lr: 2.0000e-04\n",
            "Epoch 36/40\n",
            "20/20 [==============================] - 43s 2s/step - loss: 0.4697 - accuracy: 0.8109 - val_loss: 0.3083 - val_accuracy: 0.8750 - lr: 2.0000e-04\n",
            "Epoch 37/40\n",
            "20/20 [==============================] - 42s 2s/step - loss: 0.4349 - accuracy: 0.8391 - val_loss: 0.2564 - val_accuracy: 0.9062 - lr: 2.0000e-04\n",
            "Epoch 38/40\n",
            "20/20 [==============================] - 44s 2s/step - loss: 0.4275 - accuracy: 0.8391 - val_loss: 0.3201 - val_accuracy: 0.9062 - lr: 2.0000e-04\n",
            "Epoch 39/40\n",
            "20/20 [==============================] - 44s 2s/step - loss: 0.4444 - accuracy: 0.8047 - val_loss: 0.3888 - val_accuracy: 0.8438 - lr: 2.0000e-04\n",
            "Epoch 40/40\n",
            "20/20 [==============================] - 44s 2s/step - loss: 0.4557 - accuracy: 0.8266 - val_loss: 0.3532 - val_accuracy: 0.8646 - lr: 2.0000e-04\n",
            "Training has been stopped\n",
            "Accuracy = 82.66%\n"
          ]
        }
      ]
    },
    {
      "cell_type": "markdown",
      "metadata": {
        "id": "Hk98u9MfG_1h"
      },
      "source": [
        "# Plotting Loss and Accuracy"
      ]
    },
    {
      "cell_type": "code",
      "metadata": {
        "colab": {
          "base_uri": "https://localhost:8080/",
          "height": 410
        },
        "id": "otJ9Cz4rly19",
        "outputId": "d9023a34-d2ce-48fe-b3e4-ecc383db6e98"
      },
      "source": [
        "fig, ax = plt.subplots(1, 2)\n",
        "fig.set_size_inches(12,4)\n",
        "\n",
        "# Define accuracy\n",
        "acc = history.history['accuracy']\n",
        "val_acc = history.history['val_accuracy']\n",
        "\n",
        "# Define loss\n",
        "loss = history.history['loss']\n",
        "val_loss = history.history['val_loss']\n",
        "\n",
        "epochs = range(len(acc))\n",
        "\n",
        "# Plotting accuracy\n",
        "ax[0].plot(epochs, acc, 'r', label='Training Accuracy')\n",
        "ax[0].plot(epochs, val_acc, 'b', label='Validation Accuracy')\n",
        "ax[0].set_title('Training and Validation Accuracy')\n",
        "ax[0].set_xlabel('Epoch')\n",
        "ax[0].set_ylabel('Accuracy')\n",
        "ax[0].legend(loc='upper left')\n",
        "\n",
        "# Plotting loss\n",
        "ax[1].plot(epochs, loss, 'r', label='Training Loss')\n",
        "ax[1].plot(epochs, val_loss, 'b', label='Validation Loss')\n",
        "ax[1].set_title('Training and Validation Loss')\n",
        "ax[1].set_xlabel('Epoch')\n",
        "ax[1].set_ylabel('Loss')\n",
        "ax[1].legend(loc='upper left')\n",
        "\n",
        "plt.show()"
      ],
      "execution_count": 17,
      "outputs": [
        {
          "output_type": "display_data",
          "data": {
            "text/plain": [
              "<Figure size 1200x400 with 2 Axes>"
            ],
            "image/png": "[encoded data removed]"
          },
          "metadata": {}
        }
      ]
    },
    {
      "cell_type": "markdown",
      "metadata": {
        "id": "RbdHBF4NHrpe"
      },
      "source": [
        "# Simpan model dalam bentuk formatTF-Lite"
      ]
    },
    {
      "cell_type": "code",
      "source": [
        "# # Save the model as a SavedModel\n",
        "tf.saved_model.save(model, \"/content/\")\n",
        "\n",
        "# # Convert the SavedModel to a TF-Lite model\n",
        "converter = tf.lite.TFLiteConverter.from_saved_model(\"/content/\")\n",
        "tflite_model = converter.convert()\n",
        "\n",
        "# # Save the TF-Lite model\n",
        "with open('model.tflite', 'wb') as f:\n",
        "    f.write(tflite_model)"
      ],
      "metadata": {
        "id": "1FZ87sMHbbRL"
      },
      "execution_count": 18,
      "outputs": []
    }
  ]
}